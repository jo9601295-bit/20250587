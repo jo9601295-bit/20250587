{
  "cells": [
    {
      "cell_type": "markdown",
      "metadata": {
        "id": "view-in-github",
        "colab_type": "text"
      },
      "source": [
        "<a href=\"https://colab.research.google.com/github/jo9601295-bit/20250587/blob/%EA%B8%B0%EC%B4%88%ED%99%95%EB%A5%A0%EB%B0%8F%ED%86%B5%EA%B3%84/%EA%B8%B0%EC%B4%88%ED%99%95%EB%A5%A0%EB%B0%8F%ED%86%B5%EA%B3%841%EC%B0%A8%2C2%EC%B0%A8.ipynb\" target=\"_parent\"><img src=\"https://colab.research.google.com/assets/colab-badge.svg\" alt=\"Open In Colab\"/></a>"
      ]
    },
    {
      "cell_type": "markdown",
      "source": [
        "\n",
        "\n",
        "# 기초확률및통계"
      ],
      "metadata": {
        "id": "wdVEQQ50wTzb"
      }
    },
    {
      "cell_type": "code",
      "source": [
        "print(\"이름 : 조은성\")\n",
        "print(\"나이 : 21\")"
      ],
      "metadata": {
        "id": "SHyURO855vOf",
        "outputId": "9f7d7a04-1629-4466-d35d-e16d1c27623b",
        "colab": {
          "base_uri": "https://localhost:8080/"
        }
      },
      "execution_count": null,
      "outputs": [
        {
          "output_type": "stream",
          "name": "stdout",
          "text": [
            "이름 : 조은성\n",
            "나이 : 21\n"
          ]
        }
      ]
    },
    {
      "cell_type": "code",
      "source": [
        " a = [2, 3, 4, 5, 6]\n",
        " rev_a = []\n",
        " for _ in range( len(a)):\n",
        "    rev_a.append(a.pop())\n",
        "\n",
        " print (rev_a)"
      ],
      "metadata": {
        "colab": {
          "base_uri": "https://localhost:8080/"
        },
        "id": "eHklPJvCwfa7",
        "outputId": "aafb1e70-792a-49cb-851e-47b5ec492623"
      },
      "execution_count": null,
      "outputs": [
        {
          "output_type": "stream",
          "name": "stdout",
          "text": [
            "[6, 5, 4, 3, 2]\n"
          ]
        }
      ]
    }
  ],
  "metadata": {
    "colab": {
      "toc_visible": true,
      "provenance": [],
      "include_colab_link": true
    },
    "kernelspec": {
      "display_name": "Python 3",
      "name": "python3"
    }
  },
  "nbformat": 4,
  "nbformat_minor": 0
}