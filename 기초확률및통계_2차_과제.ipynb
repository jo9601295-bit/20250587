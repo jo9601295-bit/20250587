{
  "cells": [
    {
      "cell_type": "markdown",
      "metadata": {
        "id": "view-in-github",
        "colab_type": "text"
      },
      "source": [
        "<a href=\"https://colab.research.google.com/github/jo9601295-bit/20250587/blob/main/%EA%B8%B0%EC%B4%88%ED%99%95%EB%A5%A0%EB%B0%8F%ED%86%B5%EA%B3%84_2%EC%B0%A8_%EA%B3%BC%EC%A0%9C.ipynb\" target=\"_parent\"><img src=\"https://colab.research.google.com/assets/colab-badge.svg\" alt=\"Open In Colab\"/></a>"
      ]
    },
    {
      "cell_type": "markdown",
      "source": [
        "\n",
        "\n",
        "# 기초확률및통계"
      ],
      "metadata": {
        "id": "wdVEQQ50wTzb"
      }
    },
    {
      "cell_type": "code",
      "source": [
        " a = [2, 3, 4, 5, 6]\n",
        " rev_a = []\n",
        " for _ in range( len(a)):\n",
        "    rev_a.append(a.pop())\n",
        "\n",
        " print (rev_a)"
      ],
      "metadata": {
        "id": "eHklPJvCwfa7",
        "outputId": "aafb1e70-792a-49cb-851e-47b5ec492623",
        "colab": {
          "base_uri": "https://localhost:8080/"
        }
      },
      "execution_count": null,
      "outputs": [
        {
          "output_type": "stream",
          "name": "stdout",
          "text": [
            "[6, 5, 4, 3, 2]\n"
          ]
        }
      ]
    }
  ],
  "metadata": {
    "colab": {
      "toc_visible": true,
      "provenance": [],
      "include_colab_link": true
    },
    "kernelspec": {
      "display_name": "Python 3",
      "name": "python3"
    }
  },
  "nbformat": 4,
  "nbformat_minor": 0
}